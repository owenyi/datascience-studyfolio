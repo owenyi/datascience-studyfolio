{
 "cells": [
  {
   "attachments": {
    "image-3.png": {
     "image/png": "[encoded data removed]"
    }
   },
   "cell_type": "markdown",
   "metadata": {},
   "source": [
    "![image-3.png](attachment:image-3.png)"
   ]
  },
  {
   "attachments": {},
   "cell_type": "markdown",
   "metadata": {},
   "source": [
    "# 벡터\n",
    "  * 선형 대수는 벡터 공간을 다루는 수학의 한 분야입니다.\n",
    "  * 벡터는 유한 차원 공간에 존재하는 점들이며, 각각은 크기와 양을 가집니다.\n",
    "  * 벡터를 가장 간단하게 표현하는 방법은 숫자로 구성된 리스트로 표현하는 것입니다.\n",
    "  * 파이썬 리스트는 벡터가 아니므로 벡터 연산을 해주는 기본적인 도구가 없습니다."
   ]
  },
  {
   "cell_type": "code",
   "execution_count": 1,
   "metadata": {},
   "outputs": [],
   "source": [
    "from IPython.core.interactiveshell import InteractiveShell\n",
    "InteractiveShell.ast_node_interactivity = \"all\""
   ]
  },
  {
   "cell_type": "markdown",
   "metadata": {},
   "source": [
    "## 1. 벡터 덧셈"
   ]
  },
  {
   "cell_type": "code",
   "execution_count": 2,
   "metadata": {},
   "outputs": [
    {
     "data": {
      "text/plain": [
       "[1, 3, 5, 7, 9]"
      ]
     },
     "execution_count": 2,
     "metadata": {},
     "output_type": "execute_result"
    },
    {
     "data": {
      "text/plain": [
       "[11, 13, 15, 17, 19]"
      ]
     },
     "execution_count": 2,
     "metadata": {},
     "output_type": "execute_result"
    },
    {
     "data": {
      "text/plain": [
       "[12, 16, 20, 24, 28]"
      ]
     },
     "execution_count": 2,
     "metadata": {},
     "output_type": "execute_result"
    }
   ],
   "source": [
    "import re, math, random # regexes, math functions, random numbers\n",
    "import matplotlib.pyplot as plt # pyplot\n",
    "from collections import defaultdict, Counter\n",
    "from functools import partial, reduce # For python3, \"reduce\" function is added\n",
    "\n",
    "import numpy as np\n",
    "\n",
    "def vector_add(v, w):\n",
    "    \"\"\"adds two vectors componentwise\"\"\"\n",
    "    return [v_i + w_i for v_i, w_i in zip(v,w)]\n",
    "\n",
    "v = [x for x in range(1, 11, 2)]\n",
    "v\n",
    "w = [y for y in range(11, 21, 2)]\n",
    "w\n",
    "\n",
    "vector_add(v, w)"
   ]
  },
  {
   "cell_type": "code",
   "execution_count": 3,
   "metadata": {},
   "outputs": [
    {
     "data": {
      "text/plain": [
       "array([12, 16, 20, 24, 28])"
      ]
     },
     "execution_count": 3,
     "metadata": {},
     "output_type": "execute_result"
    }
   ],
   "source": [
    "# Numpy version\n",
    "np.array(v) + np.array(w)"
   ]
  },
  {
   "cell_type": "markdown",
   "metadata": {},
   "source": [
    "## 2. 파이썬 산술 연산 vs. 넘파이 산술 연산"
   ]
  },
  {
   "attachments": {},
   "cell_type": "markdown",
   "metadata": {},
   "source": [
    "### Numpy(“넘파이”) Library\n",
    "  * 행렬이나 일반적으로 대규모 다차원 배열을 쉽게 처리 할 수 있도록 지원하는 파이썬의 라이브러리 입니다\n",
    "  * NumPy는 데이터 구조 외에도 수치 계산을 위해 효율적으로 구현된 기능을 제공합니다\n",
    "  * 성능도 좋고 다양한 연산이 이미 구현되어 있습니다"
   ]
  },
  {
   "cell_type": "code",
   "execution_count": 4,
   "metadata": {},
   "outputs": [
    {
     "name": "stdout",
     "output_type": "stream",
     "text": [
      "649 ns ± 17.6 ns per loop (mean ± std. dev. of 7 runs, 1000000 loops each)\n",
      "2.87 µs ± 70.8 ns per loop (mean ± std. dev. of 7 runs, 100000 loops each)\n"
     ]
    }
   ],
   "source": [
    "# 벡터 덧셈의 속도를 비교, 파이썬 산술 연산 vs. 넘파이 산술 연산\n",
    "%timeit vector_add(v, w)\n",
    "%timeit np.array(v) + np.array(w)"
   ]
  },
  {
   "cell_type": "markdown",
   "metadata": {},
   "source": [
    "## 3. 벡터 뺄셈"
   ]
  },
  {
   "cell_type": "code",
   "execution_count": 5,
   "metadata": {},
   "outputs": [
    {
     "data": {
      "text/plain": [
       "[1, 3, 5, 7, 9]"
      ]
     },
     "execution_count": 5,
     "metadata": {},
     "output_type": "execute_result"
    },
    {
     "data": {
      "text/plain": [
       "[11, 13, 15, 17, 19]"
      ]
     },
     "execution_count": 5,
     "metadata": {},
     "output_type": "execute_result"
    },
    {
     "data": {
      "text/plain": [
       "[-10, -10, -10, -10, -10]"
      ]
     },
     "execution_count": 5,
     "metadata": {},
     "output_type": "execute_result"
    }
   ],
   "source": [
    "def vector_subtract(v, w):\n",
    "    \"\"\"subtracts two vectors componentwise\"\"\"\n",
    "    return [v_i - w_i for v_i, w_i in zip(v,w)]\n",
    "\n",
    "v\n",
    "w\n",
    "vector_subtract(v, w)"
   ]
  },
  {
   "cell_type": "code",
   "execution_count": 6,
   "metadata": {},
   "outputs": [
    {
     "data": {
      "text/plain": [
       "array([-10, -10, -10, -10, -10])"
      ]
     },
     "execution_count": 6,
     "metadata": {},
     "output_type": "execute_result"
    }
   ],
   "source": [
    "# Numpy version\n",
    "np.array(v) - np.array(w)"
   ]
  },
  {
   "cell_type": "markdown",
   "metadata": {},
   "source": [
    "## 4. 벡터 리스트 덧셈"
   ]
  },
  {
   "cell_type": "code",
   "execution_count": 7,
   "metadata": {},
   "outputs": [
    {
     "data": {
      "text/plain": [
       "15"
      ]
     },
     "execution_count": 7,
     "metadata": {},
     "output_type": "execute_result"
    },
    {
     "data": {
      "text/plain": [
       "15"
      ]
     },
     "execution_count": 7,
     "metadata": {},
     "output_type": "execute_result"
    }
   ],
   "source": [
    "# cf) reduce\n",
    "def add(x, y):\n",
    "    return x + y\n",
    "reduced1 = reduce(add, [1, 2, 3, 4, 5])\n",
    "reduced1\n",
    "\n",
    "reduced2 = reduce(lambda x, y: x + y, [1, 2, 3, 4, 5])\n",
    "reduced2"
   ]
  },
  {
   "cell_type": "code",
   "execution_count": 8,
   "metadata": {},
   "outputs": [
    {
     "name": "stdout",
     "output_type": "stream",
     "text": [
      "1 2 3 4 5\n",
      "1 2 3 4 5\n"
     ]
    }
   ],
   "source": [
    "# cf) * list\n",
    "list = [1, 2, 3, 4, 5]\n",
    "print(*list)\n",
    "print(1, 2, 3, 4, 5)"
   ]
  },
  {
   "cell_type": "code",
   "execution_count": 9,
   "metadata": {},
   "outputs": [
    {
     "data": {
      "text/plain": [
       "[1, 3, 5, 7, 9]"
      ]
     },
     "execution_count": 9,
     "metadata": {},
     "output_type": "execute_result"
    },
    {
     "data": {
      "text/plain": [
       "[11, 13, 15, 17, 19]"
      ]
     },
     "execution_count": 9,
     "metadata": {},
     "output_type": "execute_result"
    },
    {
     "data": {
      "text/plain": [
       "[36, 48, 60, 72, 84]"
      ]
     },
     "execution_count": 9,
     "metadata": {},
     "output_type": "execute_result"
    },
    {
     "data": {
      "text/plain": [
       "[36, 48, 60, 72, 84]"
      ]
     },
     "execution_count": 9,
     "metadata": {},
     "output_type": "execute_result"
    }
   ],
   "source": [
    "v = [x for x in range(1, 11, 2)]\n",
    "w = [y for y in range(11, 21, 2)]\n",
    "\n",
    "# Version1\n",
    "def vector_sum(vectors):\n",
    "    return reduce(vector_add, vectors)\n",
    "\n",
    "v\n",
    "w\n",
    "vectors = [v, w, v, w, v, w]\n",
    "vector_sum(vectors)\n",
    "\n",
    "# Version2\n",
    "def vector_sum_modified(vectors):\n",
    "    return [sum(value) for value in zip(*vectors)]\n",
    "\n",
    "vectors = [v,w,v,w,v,w]\n",
    "vector_sum_modified(vectors)"
   ]
  },
  {
   "cell_type": "code",
   "execution_count": 10,
   "metadata": {},
   "outputs": [
    {
     "data": {
      "text/plain": [
       "array([36, 48, 60, 72, 84])"
      ]
     },
     "execution_count": 10,
     "metadata": {},
     "output_type": "execute_result"
    }
   ],
   "source": [
    "# Numpy operation\n",
    "np.sum([v,w,v,w,v,w], axis=0) \n",
    "# axis=0 는 row [v,w,v,w,v,w]를 하나의 matrix로 생각했을 때, column별로 sum operation을 하라는 의미\n",
    "# axis=1 는 row [v,w,v,w,v,w]를 하나의 matrix로 생각했을 때, row별로 sum operation을 하라는 의미"
   ]
  },
  {
   "cell_type": "markdown",
   "metadata": {},
   "source": [
    "## 5. 벡터 스칼라 곱"
   ]
  },
  {
   "cell_type": "code",
   "execution_count": 11,
   "metadata": {},
   "outputs": [
    {
     "data": {
      "text/plain": [
       "[1, 3, 5, 7, 9]"
      ]
     },
     "execution_count": 11,
     "metadata": {},
     "output_type": "execute_result"
    },
    {
     "data": {
      "text/plain": [
       "[3, 9, 15, 21, 27]"
      ]
     },
     "execution_count": 11,
     "metadata": {},
     "output_type": "execute_result"
    }
   ],
   "source": [
    "def scalar_multiply(c, v):\n",
    "    return [c * v_i for v_i in v]\n",
    "\n",
    "scalar = 3\n",
    "v\n",
    "scalar_multiply(scalar, v)"
   ]
  },
  {
   "cell_type": "code",
   "execution_count": 12,
   "metadata": {},
   "outputs": [
    {
     "data": {
      "text/plain": [
       "array([ 3,  9, 15, 21, 27])"
      ]
     },
     "execution_count": 12,
     "metadata": {},
     "output_type": "execute_result"
    }
   ],
   "source": [
    "# Numpy version: numpy는 배열의 크기가 다르더라도 기본적인 vector 연산이 가능하도록 지원. 이를 broadcasting이라고 함\n",
    "scalar * np.array(v)"
   ]
  },
  {
   "cell_type": "markdown",
   "metadata": {},
   "source": [
    "## 6. 벡터 리스트 평균"
   ]
  },
  {
   "cell_type": "code",
   "execution_count": 13,
   "metadata": {},
   "outputs": [
    {
     "data": {
      "text/plain": [
       "[1.0, 2.0, 3.0, 4.0]"
      ]
     },
     "execution_count": 13,
     "metadata": {},
     "output_type": "execute_result"
    }
   ],
   "source": [
    "def vector_mean(vectors):\n",
    "    \"\"\"compute the vector whose i-th element is the mean of the\n",
    "    i-th elements of the input vectors\"\"\"\n",
    "    n = len(vectors)\n",
    "    return scalar_multiply(1/n, vector_sum(vectors))\n",
    "\n",
    "v = [1,2,3,4]\n",
    "w = [-4,-3,-2,-1]\n",
    "\n",
    "vector_mean([v,v,v,v])"
   ]
  },
  {
   "cell_type": "code",
   "execution_count": 14,
   "metadata": {},
   "outputs": [
    {
     "data": {
      "text/plain": [
       "array([1., 2., 3., 4.])"
      ]
     },
     "execution_count": 14,
     "metadata": {},
     "output_type": "execute_result"
    }
   ],
   "source": [
    "# Numpy version\n",
    "np.mean([v,v,v,v], axis=0)\n",
    "# axis=0 는 row [v,w,v,w,v,w]를 하나의 matrix로 생각했을 때, column별로 mean operation을 하라는 의미\n",
    "# axis=1 는 row [v,w,v,w,v,w]를 하나의 matrix로 생각했을 때, row별로 mean operation을 하라는 의미"
   ]
  },
  {
   "cell_type": "markdown",
   "metadata": {},
   "source": [
    "## 7. 벡터의 내적"
   ]
  },
  {
   "cell_type": "code",
   "execution_count": 15,
   "metadata": {},
   "outputs": [
    {
     "data": {
      "text/plain": [
       "[1, 2, 3, 4]"
      ]
     },
     "execution_count": 15,
     "metadata": {},
     "output_type": "execute_result"
    },
    {
     "data": {
      "text/plain": [
       "[-4, -3, -2, -1]"
      ]
     },
     "execution_count": 15,
     "metadata": {},
     "output_type": "execute_result"
    },
    {
     "data": {
      "text/plain": [
       "-20"
      ]
     },
     "execution_count": 15,
     "metadata": {},
     "output_type": "execute_result"
    }
   ],
   "source": [
    "def dot(v, w):\n",
    "    \"\"\"v_1 * w_1 + ... + v_n * w_n\"\"\"\n",
    "    return sum(v_i * w_i for v_i, w_i in zip(v, w))\n",
    "\n",
    "v\n",
    "w\n",
    "dot(v, w)"
   ]
  },
  {
   "cell_type": "code",
   "execution_count": 16,
   "metadata": {},
   "outputs": [
    {
     "data": {
      "text/plain": [
       "-20"
      ]
     },
     "execution_count": 16,
     "metadata": {},
     "output_type": "execute_result"
    }
   ],
   "source": [
    "# Numpy version\n",
    "np.dot(v,w)"
   ]
  },
  {
   "cell_type": "markdown",
   "metadata": {},
   "source": [
    "## 8. 벡터의 길이"
   ]
  },
  {
   "cell_type": "code",
   "execution_count": 17,
   "metadata": {},
   "outputs": [
    {
     "data": {
      "text/plain": [
       "[1, 2, 3, 4]"
      ]
     },
     "execution_count": 17,
     "metadata": {},
     "output_type": "execute_result"
    },
    {
     "data": {
      "text/plain": [
       "30"
      ]
     },
     "execution_count": 17,
     "metadata": {},
     "output_type": "execute_result"
    }
   ],
   "source": [
    "# cf) 벡터 성분 제곱 값의 합\n",
    "def sum_of_squares(v):\n",
    "    \"\"\"v_1 * v_1 + ... + v_n * v_n\"\"\"\n",
    "    return dot(v, v)\n",
    "\n",
    "v\n",
    "sum_of_squares(v) # v * v = [1,4,9,16]"
   ]
  },
  {
   "cell_type": "code",
   "execution_count": 18,
   "metadata": {},
   "outputs": [
    {
     "data": {
      "text/plain": [
       "5.477225575051661"
      ]
     },
     "execution_count": 18,
     "metadata": {},
     "output_type": "execute_result"
    }
   ],
   "source": [
    "# Magnitude (or length)\n",
    "def magnitude(v):\n",
    "    return math.sqrt(sum_of_squares(v))\n",
    "\n",
    "magnitude(v)"
   ]
  },
  {
   "cell_type": "code",
   "execution_count": 19,
   "metadata": {},
   "outputs": [
    {
     "data": {
      "text/plain": [
       "5.477225575051661"
      ]
     },
     "execution_count": 19,
     "metadata": {},
     "output_type": "execute_result"
    }
   ],
   "source": [
    "# Numpy version\n",
    "np.linalg.norm(v)"
   ]
  },
  {
   "cell_type": "markdown",
   "metadata": {},
   "source": [
    "## 9. 두 벡터 사이의 거리"
   ]
  },
  {
   "cell_type": "code",
   "execution_count": 20,
   "metadata": {},
   "outputs": [
    {
     "data": {
      "text/plain": [
       "[1, 2, 3, 4]"
      ]
     },
     "execution_count": 20,
     "metadata": {},
     "output_type": "execute_result"
    },
    {
     "data": {
      "text/plain": [
       "[-4, -3, -2, -1]"
      ]
     },
     "execution_count": 20,
     "metadata": {},
     "output_type": "execute_result"
    },
    {
     "data": {
      "text/plain": [
       "100"
      ]
     },
     "execution_count": 20,
     "metadata": {},
     "output_type": "execute_result"
    }
   ],
   "source": [
    "# cf) square\n",
    "def squared_distance(v, w):\n",
    "    return sum_of_squares(vector_subtract(v, w))\n",
    "\n",
    "v\n",
    "w\n",
    "squared_distance(v,w) "
   ]
  },
  {
   "cell_type": "code",
   "execution_count": 21,
   "metadata": {},
   "outputs": [
    {
     "data": {
      "text/plain": [
       "10.0"
      ]
     },
     "execution_count": 21,
     "metadata": {},
     "output_type": "execute_result"
    }
   ],
   "source": [
    "def distance(v, w):\n",
    "   return math.sqrt(squared_distance(v, w))\n",
    "\n",
    "distance(v,w)"
   ]
  },
  {
   "cell_type": "code",
   "execution_count": 22,
   "metadata": {},
   "outputs": [
    {
     "data": {
      "text/plain": [
       "10.0"
      ]
     },
     "execution_count": 22,
     "metadata": {},
     "output_type": "execute_result"
    }
   ],
   "source": [
    "# Numpy version\n",
    "np.linalg.norm(np.subtract(v,w)) # or np.sqrt(np.sum(np.subtract(v,w)**2))"
   ]
  },
  {
   "cell_type": "markdown",
   "metadata": {},
   "source": [
    "## 10. 벡터 점곱 그래프"
   ]
  },
  {
   "cell_type": "code",
   "execution_count": 23,
   "metadata": {},
   "outputs": [
    {
     "data": {
      "image/png": "[encoded data removed]",
      "text/plain": [
       "<Figure size 432x288 with 1 Axes>"
      ]
     },
     "metadata": {
      "needs_background": "light"
     },
     "output_type": "display_data"
    }
   ],
   "source": [
    "def make_graph_dot_product_as_vector_projection(plt):\n",
    "    v = [2, 1]\n",
    "    w = [math.sqrt(.25), math.sqrt(.75)]\n",
    "    c = dot(v, w)\n",
    "    vonw = scalar_multiply(c, w)\n",
    "    o = [0,0]\n",
    "\n",
    "    plt.arrow(0, 0, v[0], v[1], \n",
    "              width=0.002, head_width=.1, length_includes_head=True)\n",
    "    plt.annotate(\"v\", v, xytext=[v[0] + 0.1, v[1]])\n",
    "    plt.arrow(0 ,0, w[0], w[1], \n",
    "              width=0.002, head_width=.1, length_includes_head=True)\n",
    "    plt.annotate(\"w\", w, xytext=[w[0] - 0.1, w[1]])\n",
    "    plt.arrow(0, 0, vonw[0], vonw[1], length_includes_head=True)\n",
    "    plt.annotate(u\"(v•w)w\", vonw, xytext=[vonw[0] - 0.1, vonw[1] + 0.1])\n",
    "    plt.arrow(v[0], v[1], vonw[0] - v[0], vonw[1] - v[1], \n",
    "              linestyle='dotted', length_includes_head=True)\n",
    "    plt.scatter(*zip(v,w,o),marker='.')\n",
    "    plt.axis([0,2,0,2]) # 잘리는 부분이 있어서 변경\n",
    "    plt.show()\n",
    "\n",
    "%matplotlib inline\n",
    "make_graph_dot_product_as_vector_projection(plt)"
   ]
  },
  {
   "cell_type": "markdown",
   "metadata": {},
   "source": [
    "# 행렬\n",
    "  * 행렬은 2차원으로 구성된 숫자의 집합입니다.\n",
    "  * 리스트의 리스트"
   ]
  },
  {
   "cell_type": "markdown",
   "metadata": {},
   "source": [
    "## 1. 행렬 형태"
   ]
  },
  {
   "cell_type": "code",
   "execution_count": 24,
   "metadata": {},
   "outputs": [
    {
     "data": {
      "text/plain": [
       "(3, 5)"
      ]
     },
     "execution_count": 24,
     "metadata": {},
     "output_type": "execute_result"
    },
    {
     "data": {
      "text/plain": [
       "[1, 2, 3, 4, 5]"
      ]
     },
     "execution_count": 24,
     "metadata": {},
     "output_type": "execute_result"
    },
    {
     "data": {
      "text/plain": [
       "[4, 14, 24]"
      ]
     },
     "execution_count": 24,
     "metadata": {},
     "output_type": "execute_result"
    }
   ],
   "source": [
    "def shape(A):\n",
    "    num_rows = len(A)\n",
    "    num_cols = len(A[0]) if A else 0\n",
    "    return num_rows, num_cols\n",
    "\n",
    "def get_row(A, i):\n",
    "    return A[i]\n",
    "\n",
    "def get_column(A, j):\n",
    "    return [A_i[j] for A_i in A]\n",
    "\n",
    "example_matrix = [[1,2,3,4,5], [11,12,13,14,15], [21,22,23,24,25]]\n",
    "\n",
    "shape(example_matrix)\n",
    "get_row(example_matrix, 0)\n",
    "get_column(example_matrix, 3)"
   ]
  },
  {
   "cell_type": "code",
   "execution_count": 25,
   "metadata": {},
   "outputs": [
    {
     "data": {
      "text/plain": [
       "(3, 5)"
      ]
     },
     "execution_count": 25,
     "metadata": {},
     "output_type": "execute_result"
    },
    {
     "data": {
      "text/plain": [
       "array([1, 2, 3, 4, 5])"
      ]
     },
     "execution_count": 25,
     "metadata": {},
     "output_type": "execute_result"
    },
    {
     "data": {
      "text/plain": [
       "array([ 4, 14, 24])"
      ]
     },
     "execution_count": 25,
     "metadata": {},
     "output_type": "execute_result"
    }
   ],
   "source": [
    "# Numpy version \n",
    "np.shape(example_matrix)\n",
    "example_matrix = np.array(example_matrix)\n",
    "example_matrix[0] #row slicing\n",
    "example_matrix[:, 3] #row slicing"
   ]
  },
  {
   "cell_type": "markdown",
   "metadata": {},
   "source": [
    "## 2. 행렬 생성"
   ]
  },
  {
   "cell_type": "code",
   "execution_count": 26,
   "metadata": {},
   "outputs": [
    {
     "data": {
      "text/plain": [
       "[[1, 0, 0, 0, 0],\n",
       " [0, 1, 0, 0, 0],\n",
       " [0, 0, 1, 0, 0],\n",
       " [0, 0, 0, 1, 0],\n",
       " [0, 0, 0, 0, 1]]"
      ]
     },
     "execution_count": 26,
     "metadata": {},
     "output_type": "execute_result"
    }
   ],
   "source": [
    "def make_matrix(num_rows, num_cols, entry_fn):\n",
    "    \"\"\"returns a num_rows x num_cols matrix \n",
    "    whose (i,j)-th entry is entry_fn(i, j)\"\"\"\n",
    "    return [[entry_fn(i, j) for j in range(num_cols)]\n",
    "            for i in range(num_rows)] \n",
    "\n",
    "def is_diagonal(i, j):\n",
    "    \"\"\"1's on the 'diagonal', 0's everywhere else\"\"\"\n",
    "    return 1 if i == j else 0\n",
    "\n",
    "identity_matrix = make_matrix(5, 5, is_diagonal)\n",
    "\n",
    "identity_matrix"
   ]
  },
  {
   "cell_type": "code",
   "execution_count": 27,
   "metadata": {},
   "outputs": [
    {
     "data": {
      "text/plain": [
       "array([[1., 0., 0., 0., 0.],\n",
       "       [0., 1., 0., 0., 0.],\n",
       "       [0., 0., 1., 0., 0.],\n",
       "       [0., 0., 0., 1., 0.],\n",
       "       [0., 0., 0., 0., 1.]])"
      ]
     },
     "execution_count": 27,
     "metadata": {},
     "output_type": "execute_result"
    }
   ],
   "source": [
    "# Numpy version\n",
    "np.identity(5)"
   ]
  },
  {
   "cell_type": "markdown",
   "metadata": {},
   "source": [
    "## 3. 이진 관계"
   ]
  },
  {
   "cell_type": "code",
   "execution_count": 28,
   "metadata": {},
   "outputs": [
    {
     "data": {
      "text/plain": [
       "True"
      ]
     },
     "execution_count": 28,
     "metadata": {},
     "output_type": "execute_result"
    },
    {
     "data": {
      "text/plain": [
       "False"
      ]
     },
     "execution_count": 28,
     "metadata": {},
     "output_type": "execute_result"
    },
    {
     "name": "stdout",
     "output_type": "stream",
     "text": [
      "[4, 6, 7]\n"
     ]
    }
   ],
   "source": [
    "friendships = [(0, 1), (0, 2), (1, 2), (1, 3), (2, 3), (3, 4), (4, 5), (5, 6), (5, 7), (6, 8), (7, 8), (8, 9)]\n",
    "\n",
    "friendships = [\n",
    "    [0, 1, 1, 0, 0, 0, 0, 0, 0, 0], \t# user 0\n",
    "    [1, 0, 1, 1, 0, 0, 0, 0, 0, 0], \t# user 1\n",
    "    [1, 1, 0, 1, 0, 0, 0, 0, 0, 0], \t# user 2\n",
    "    [0, 1, 1, 0, 1, 0, 0, 0, 0, 0], \t# user 3\n",
    "    [0, 0, 0, 1, 0, 1, 0, 0, 0, 0], \t# user 4\n",
    "    [0, 0, 0, 0, 1, 0, 1, 1, 0, 0], \t# user 5\n",
    "    [0, 0, 0, 0, 0, 1, 0, 0, 1, 0], \t# user 6\n",
    "    [0, 0, 0, 0, 0, 1, 0, 0, 1, 0], \t# user 7\n",
    "    [0, 0, 0, 0, 0, 0, 1, 1, 0, 1], \t# user 8\n",
    "    [0, 0, 0, 0, 0, 0, 0, 0, 1, 0]  \t# user 9\n",
    "]\n",
    "\n",
    "friendships[0][2] == 1 # True, user 0과 2는 친구이다 \n",
    "friendships[0][8] == 1 # False, user 0과 8은 친구가 아니다\n",
    "\n",
    "# only need # to look at # one row\n",
    "friends_of_five = [i for i, is_friend in enumerate(friendships[5]) if is_friend]\n",
    "print(friends_of_five)"
   ]
  },
  {
   "cell_type": "markdown",
   "metadata": {},
   "source": [
    "## 4. 행렬 덧셈"
   ]
  },
  {
   "cell_type": "code",
   "execution_count": 29,
   "metadata": {},
   "outputs": [
    {
     "data": {
      "text/plain": [
       "[[6.0, 4.0, 3.0], [2.0, 3.0, 4.0]]"
      ]
     },
     "execution_count": 29,
     "metadata": {},
     "output_type": "execute_result"
    }
   ],
   "source": [
    "def matrix_add(A, B):\n",
    "    if shape(A) != shape(B):\n",
    "        raise ArithmeticError(\"cannot add matrices with different shapes\")\n",
    "        \n",
    "    num_rows, num_cols = shape(A)\n",
    "    \n",
    "#   def entry_fn(i, j): return A[i][j] + B[i][j]\n",
    "    entry_fn = lambda i, j: A[i][j] + B[i][j]\n",
    "        \n",
    "    return make_matrix(num_rows, num_cols, entry_fn)\n",
    "\n",
    "A = [[ 1., 0., 0.], [ 0., 1., 2.]]\n",
    "B = [[ 5., 4., 3.], [ 2., 2., 2.]]\n",
    "\n",
    "matrix_add(A,B)"
   ]
  },
  {
   "cell_type": "code",
   "execution_count": 30,
   "metadata": {},
   "outputs": [
    {
     "data": {
      "text/plain": [
       "array([[6., 4., 3.],\n",
       "       [2., 3., 4.]])"
      ]
     },
     "execution_count": 30,
     "metadata": {},
     "output_type": "execute_result"
    }
   ],
   "source": [
    "# Numpy version\n",
    "np.add(A,B) # vector 마찬가지로 크기 같은 matrix 형태의 list가 돌아오면 자동으로 변환함"
   ]
  },
  {
   "attachments": {
    "image-6.png": {
     "image/png": "[encoded data removed]"
    }
   },
   "cell_type": "markdown",
   "metadata": {},
   "source": [
    "# (Lab5) 점곱, 전치행렬\n",
    "## A와 B 방법으로 아래 행렬 연산을 2가지 방법으로 구현해서 비교해보세요\n",
    "![image-6.png](attachment:image-6.png)"
   ]
  },
  {
   "attachments": {
    "image-2.png": {
     "image/png": "[encoded data removed]"
    },
    "image.png": {
     "image/png": "[encoded data removed]"
    }
   },
   "cell_type": "markdown",
   "metadata": {},
   "source": [
    "## 1) 행렬 점곱 그래프 (내적)\n",
    "![image.png](attachment:image.png)\n",
    "![image-2.png](attachment:image-2.png)"
   ]
  },
  {
   "cell_type": "code",
   "execution_count": 31,
   "metadata": {},
   "outputs": [
    {
     "data": {
      "text/plain": [
       "[[22, 28], [49, 64]]"
      ]
     },
     "execution_count": 31,
     "metadata": {},
     "output_type": "execute_result"
    }
   ],
   "source": [
    "def my_matrix_dot(A, B):\n",
    "    if shape(A)[1] != shape(B)[0]:\n",
    "        raise ArithmeticError(\"cannot dot product matrices with different shapes\")\n",
    "        \n",
    "    num_rows, num_cols = shape(A)[0], shape(B)[1]\n",
    "    \n",
    "    entry_fn = lambda i, j: dot(A[i], [x[j] for x in B])\n",
    "    \n",
    "    return make_matrix(num_rows, num_cols, entry_fn)\n",
    "\n",
    "A = [[1, 2, 3],\n",
    "    [4, 5, 6]]\n",
    "B = [[1, 2],\n",
    "    [3, 4],\n",
    "    [5, 6]]\n",
    "\n",
    "\n",
    "my_matrix_dot(A, B)"
   ]
  },
  {
   "cell_type": "code",
   "execution_count": 32,
   "metadata": {},
   "outputs": [
    {
     "data": {
      "text/plain": [
       "array([[22, 28],\n",
       "       [49, 64]])"
      ]
     },
     "execution_count": 32,
     "metadata": {},
     "output_type": "execute_result"
    }
   ],
   "source": [
    "# Numpy version\n",
    "np.dot(A,B)"
   ]
  },
  {
   "attachments": {
    "image-8.png": {
     "image/png": "[encoded data removed]"
    }
   },
   "cell_type": "markdown",
   "metadata": {},
   "source": [
    "## 2) 전치 행렬                                                                                                                 \n",
    "\n",
    "![image-8.png](attachment:image-8.png)"
   ]
  },
  {
   "cell_type": "code",
   "execution_count": 33,
   "metadata": {},
   "outputs": [
    {
     "data": {
      "text/plain": [
       "[[6, 1], [4, -9], [24, 8]]"
      ]
     },
     "execution_count": 33,
     "metadata": {},
     "output_type": "execute_result"
    }
   ],
   "source": [
    "def my_matrix_transpose(M):\n",
    "    num_cols, num_rows = shape(M)\n",
    "    \n",
    "    entry_fn = lambda i, j: M[j][i]\n",
    "    \n",
    "    return make_matrix(num_rows, num_cols, entry_fn)\n",
    "\n",
    "A = [[6, 4, 24],\n",
    "    [1, -9, 8]]\n",
    "B = [[1, 2],\n",
    "    [3, 4],\n",
    "    [5, 6]]\n",
    "my_matrix_transpose(A)"
   ]
  },
  {
   "cell_type": "code",
   "execution_count": 34,
   "metadata": {},
   "outputs": [
    {
     "data": {
      "text/plain": [
       "array([[ 6,  1],\n",
       "       [ 4, -9],\n",
       "       [24,  8]])"
      ]
     },
     "execution_count": 34,
     "metadata": {},
     "output_type": "execute_result"
    },
    {
     "data": {
      "text/plain": [
       "array([[1, 3, 5],\n",
       "       [2, 4, 6]])"
      ]
     },
     "execution_count": 34,
     "metadata": {},
     "output_type": "execute_result"
    }
   ],
   "source": [
    "# Numpy version\n",
    "np.transpose(A) # vector와 마찬가지로 크기 같은 matrix 형태의 list가 돌아오면 자동으로 변환\n",
    "np.transpose(B) # vector와 마찬가지로 크기 같은 matrix 형태의 list가 돌아오면 자동으로 변환"
   ]
  }
 ],
 "metadata": {
  "kernelspec": {
   "display_name": "Python 3",
   "language": "python",
   "name": "python3"
  },
  "language_info": {
   "codemirror_mode": {
    "name": "ipython",
    "version": 3
   },
   "file_extension": ".py",
   "mimetype": "text/x-python",
   "name": "python",
   "nbconvert_exporter": "python",
   "pygments_lexer": "ipython3",
   "version": "3.8.5"
  }
 },
 "nbformat": 4,
 "nbformat_minor": 4
}
