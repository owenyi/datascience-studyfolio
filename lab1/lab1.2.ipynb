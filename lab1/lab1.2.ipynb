{
 "cells": [
  {
   "cell_type": "markdown",
   "metadata": {},
   "source": [
    "# (Lab1.2) Python Coding 2 : Dictionary"
   ]
  },
  {
   "cell_type": "markdown",
   "metadata": {},
   "source": [
    "#### 3개의 항목을 갖는 두 개의 리스트 자료를 만듭니다.\n",
    "#### 리스트 중 하나의 각 항목은 반드시 고유한 문자열이어야 합니다.\n",
    "#### 추가로 빈 딕셔너리 자료를 하나 만듭니다."
   ]
  },
  {
   "cell_type": "code",
   "execution_count": 1,
   "metadata": {},
   "outputs": [],
   "source": [
    "studentKey = [\"name\", \"id\", \"department\"]\n",
    "studentValue = [\"이상순\", \"owenyi\", \"수학과\"]\n",
    "student = {}"
   ]
  },
  {
   "cell_type": "markdown",
   "metadata": {},
   "source": [
    "#### 그런 다음 for 루프, 위치 인덱싱 및 if 문을 사용해 고유한 문자열 목록의 각 값이 이미 사전의 키로 등록되어있는지 여부를 테스트하십시오.\n",
    "#### 만일 키로 등록되어 있지 않다면 그 값을 키로 추가하고, 그 키와 동일한 색인 위치를 갖는 다른 리스트의 값을 사전 목록에 추가하십시오. \n",
    "#### 끝으로, 사전 목록의 모든 키와 값을 화면에 인쇄하십시오."
   ]
  },
  {
   "cell_type": "code",
   "execution_count": 2,
   "metadata": {},
   "outputs": [
    {
     "name": "stdout",
     "output_type": "stream",
     "text": [
      "{'name': '이상순', 'id': 'owenyi', 'department': '수학과'}\n"
     ]
    }
   ],
   "source": [
    "for i in range(len(studentKey)):\n",
    "    if studentKey[i] not in student:\n",
    "        student[studentKey[i]] = studentValue[i]\n",
    "print(student)"
   ]
  }
 ],
 "metadata": {
  "kernelspec": {
   "display_name": "Python 3",
   "language": "python",
   "name": "python3"
  },
  "language_info": {
   "codemirror_mode": {
    "name": "ipython",
    "version": 3
   },
   "file_extension": ".py",
   "mimetype": "text/x-python",
   "name": "python",
   "nbconvert_exporter": "python",
   "pygments_lexer": "ipython3",
   "version": "3.8.5"
  }
 },
 "nbformat": 4,
 "nbformat_minor": 4
}
