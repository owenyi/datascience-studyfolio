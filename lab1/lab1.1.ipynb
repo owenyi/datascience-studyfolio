{
 "cells": [
  {
   "cell_type": "markdown",
   "metadata": {},
   "source": [
    "# Python Basic - List"
   ]
  },
  {
   "attachments": {},
   "cell_type": "markdown",
   "metadata": {},
   "source": [
    "#### 3개 이상의 항목(예, 과일 이름 등)을 가지는 3개의 리스트를 만들고 이들 3개 리스트를 하나의 리스트로 더하십시오."
   ]
  },
  {
   "cell_type": "code",
   "execution_count": 1,
   "metadata": {},
   "outputs": [],
   "source": [
    "fruits1 = [\"사과\", \"배\", \"복숭아\"]\n",
    "fruits2 = [\"참외\", \"수박\", \"메론\"]\n",
    "fruits3 = [\"오렌지\", \"자몽\", \"감\"]"
   ]
  },
  {
   "cell_type": "code",
   "execution_count": 2,
   "metadata": {},
   "outputs": [],
   "source": [
    "fruits = fruits1 + fruits2 + fruits3\n",
    "print(fruits)"
   ]
  },
  {
   "attachments": {},
   "cell_type": "markdown",
   "metadata": {},
   "source": [
    "#### 그런 다음 for 루프와 위치 인덱싱 (예, range(len ()))을 사용하여, 통합한 리스트의 색인 값과 그 항목의 내용을 차례로 화면에 출력하십시오."
   ]
  },
  {
   "cell_type": "code",
   "execution_count": 3,
   "metadata": {},
   "outputs": [],
   "source": [
    "for i in range(len(fruits)):\n",
    "    print(f\"색인 : {i}, 과일 : {fruits[i]}\")"
   ]
  },
  {
   "attachments": {},
   "cell_type": "markdown",
   "metadata": {},
   "source": [
    "#### 과 리스트의 각 항목을 콤마(“,”)로 구분하여 CSV(comma separated values) 형식의 파일 “lab1.1”에 저장하십시오.\n",
    "####  이 파일을 열어서 파일의 내용을 화면에 출력하십시오."
   ]
  },
  {
   "cell_type": "code",
   "execution_count": 4,
   "metadata": {},
   "outputs": [],
   "source": [
    "f = open(\"lab1.1.csv\", \"w\", encoding=\"UTF-8\")\n",
    "for i in range(len(fruits) - 1):\n",
    "    f.write(fruits[i] + \", \")\n",
    "f.write(fruits[i])\n",
    "f.close()"
   ]
  },
  {
   "cell_type": "code",
   "execution_count": 5,
   "metadata": {},
   "outputs": [],
   "source": [
    "f = open(\"lab1.1.csv\", \"r\", encoding=\"UTF-8\")\n",
    "line = f.readline()\n",
    "print(line)\n",
    "f.close()"
   ]
  }
 ],
 "metadata": {
  "kernelspec": {
   "display_name": "Python 3",
   "language": "python",
   "name": "python3"
  },
  "language_info": {
   "codemirror_mode": {
    "name": "ipython",
    "version": 3
   },
   "file_extension": ".py",
   "mimetype": "text/x-python",
   "name": "python",
   "nbconvert_exporter": "python",
   "pygments_lexer": "ipython3",
   "version": "3.8.5"
  }
 },
 "nbformat": 4,
 "nbformat_minor": 4
}
